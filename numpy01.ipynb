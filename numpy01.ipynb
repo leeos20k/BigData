{
 "cells": [
  {
   "cell_type": "code",
   "execution_count": 7,
   "metadata": {},
   "outputs": [],
   "source": [
    "import numpy as np"
   ]
  },
  {
   "cell_type": "markdown",
   "metadata": {},
   "source": [
    "(기존 python이라면) \n",
    "\n",
    "pip install numpy"
   ]
  },
  {
   "cell_type": "code",
   "execution_count": 3,
   "metadata": {},
   "outputs": [
    {
     "name": "stdout",
     "output_type": "stream",
     "text": [
      "[1, 2, 3, 4, 5, 's'] <class 'list'>\n",
      "['1' '2' '3' '4' '5' 's'] <class 'numpy.ndarray'>\n"
     ]
    }
   ],
   "source": [
    "a=[1,2,3,4,5,'s']\n",
    "b=np.array(a)\n",
    "print(a ,type(a))\n",
    "print(b, type(b))"
   ]
  },
  {
   "cell_type": "code",
   "execution_count": 11,
   "metadata": {},
   "outputs": [
    {
     "data": {
      "text/plain": [
       "array([0, 1, 2, 3, 4, 5, 6, 7, 8, 9])"
      ]
     },
     "execution_count": 11,
     "metadata": {},
     "output_type": "execute_result"
    }
   ],
   "source": [
    "b1=np.arange(10)\n",
    "b1"
   ]
  },
  {
   "cell_type": "code",
   "execution_count": 13,
   "metadata": {},
   "outputs": [
    {
     "data": {
      "text/plain": [
       "array([[1, 2, 3],\n",
       "       [4, 5, 6]])"
      ]
     },
     "execution_count": 13,
     "metadata": {},
     "output_type": "execute_result"
    }
   ],
   "source": [
    "a=[[1,2,3],[4,5,6]]\n",
    "b=np.array(a)\n",
    "b\n",
    "type(b)"
   ]
  },
  {
   "cell_type": "markdown",
   "metadata": {},
   "source": [
    "a=[[1,2,3],[4,5,6]]\n",
    "b=np.array(a)\n",
    "b\n",
    "type(b)   \n",
    "\n",
    "이렇게 입력하면 type(b) 값만 나오고 b는 나오지 않음. 이런식으로 결과를 볼때 두가지 다 출력하고 싶다면 각각 print() 로 감싸줘야 한다."
   ]
  },
  {
   "cell_type": "code",
   "execution_count": 19,
   "metadata": {},
   "outputs": [
    {
     "name": "stdout",
     "output_type": "stream",
     "text": [
      "[[1 2 3]\n",
      " [4 5 6]]\n",
      "\n",
      "(2, 3)\n",
      "(3, 2)\n"
     ]
    }
   ],
   "source": [
    "a=[1,2,3,4,5,6]\n",
    "b=np.array(a).reshape(2,3)\n",
    "c=np.array(a).reshape(3,2)\n",
    "print(b)\n",
    "\n",
    "print(\"\")\n",
    "\n",
    "print(b.shape)\n",
    "print(c.shape)"
   ]
  },
  {
   "cell_type": "code",
   "execution_count": 21,
   "metadata": {},
   "outputs": [
    {
     "name": "stdout",
     "output_type": "stream",
     "text": [
      "2\n",
      "2\n"
     ]
    }
   ],
   "source": [
    "print(b[0][1])\n",
    "\n",
    "print(b[0, 1])\n"
   ]
  },
  {
   "cell_type": "code",
   "execution_count": 23,
   "metadata": {},
   "outputs": [
    {
     "name": "stdout",
     "output_type": "stream",
     "text": [
      "[[1, 2, 3], [4, 5, 6], [7, 8, 9]]\n",
      "[[1 2 3]\n",
      " [4 5 6]\n",
      " [7 8 9]]\n"
     ]
    }
   ],
   "source": [
    "a=[[1,2,3],[4,5,6],[7,8,9]]\n",
    "b=np.array(a)\n",
    "\n",
    "print(a)\n",
    "print(b)"
   ]
  },
  {
   "cell_type": "markdown",
   "metadata": {},
   "source": [
    "list는 입력된 형태 그대로 나온거고,\n",
    "numpy는 행렬형태로 나온다."
   ]
  },
  {
   "cell_type": "code",
   "execution_count": 39,
   "metadata": {},
   "outputs": [
    {
     "name": "stdout",
     "output_type": "stream",
     "text": [
      "[4, 5, 6]\n",
      "[2 5 8]\n",
      "9\n"
     ]
    }
   ],
   "source": [
    "print(a[:][1]) \n",
    "\n",
    "print(b[:,1])\n",
    "\n",
    "print(b[::-1][0,2])  "
   ]
  },
  {
   "cell_type": "markdown",
   "metadata": {},
   "source": [
    "b에 저장된 값에서 2, 5, 8을 가져오고 싶을 때,\n",
    "리스트는 특정 열 값만 가지고 올수 없음.\n",
    "numpy는 가능"
   ]
  },
  {
   "cell_type": "code",
   "execution_count": 53,
   "metadata": {},
   "outputs": [
    {
     "name": "stdout",
     "output_type": "stream",
     "text": [
      "[1, 2, 3]\n",
      "[4, 5, 6]\n",
      "[1, 2, 3, 1, 2, 3, 1, 2, 3]\n",
      "[1, 2, 3, 4, 5, 6]\n",
      "\n",
      "[[1 2 3]\n",
      " [4 5 6]\n",
      " [7 8 9]]\n",
      "[[11 12 13]\n",
      " [14 15 16]\n",
      " [17 18 19]]\n",
      "[[ 2  4  6]\n",
      " [ 8 10 12]\n",
      " [14 16 18]]\n",
      "[[12 14 16]\n",
      " [18 20 22]\n",
      " [24 26 28]]\n",
      "[[121 144 169]\n",
      " [196 225 256]\n",
      " [289 324 361]]\n",
      "[[0 0 0]\n",
      " [0 0 0]\n",
      " [0 0 0]]\n",
      "[[1. 1. 1.]\n",
      " [1. 1. 1.]\n",
      " [1. 1. 1.]]\n",
      "[[1 1 1]\n",
      " [1 1 1]\n",
      " [1 1 1]]\n"
     ]
    }
   ],
   "source": [
    "list1=[1,2,3]\n",
    "list2=[4,5,6]\n",
    "print(list1)\n",
    "print(list1*3) #같은 list를 3번 반복\n",
    "print(list2)\n",
    "print(list1+list2)\n",
    "# print(list1*list2) 안됨\n",
    "\n",
    "\n",
    "print(\"\")\n",
    "\n",
    "arr1=np.arange(1,10).reshape(3,3)\n",
    "arr2=np.arange(11,20).reshape(3,3)\n",
    "print(arr1)\n",
    "print(arr1*2)\n",
    "print(arr2)\n",
    "print(arr1+arr2)\n",
    "print(arr2*arr2)\n",
    "print(arr2-arr2)\n",
    "print(arr2/arr2)\n",
    "print(arr2//arr2)\n"
   ]
  },
  {
   "cell_type": "code",
   "execution_count": 57,
   "metadata": {},
   "outputs": [
    {
     "name": "stdout",
     "output_type": "stream",
     "text": [
      "[10 20 30]\n",
      "[[ 10  40  90]\n",
      " [ 40 100 180]\n",
      " [ 70 160 270]]\n"
     ]
    }
   ],
   "source": [
    "arr3=np.array([10,20,30])\n",
    "print(arr3)\n",
    "print(arr1*arr3)"
   ]
  },
  {
   "cell_type": "code",
   "execution_count": 65,
   "metadata": {},
   "outputs": [
    {
     "name": "stdout",
     "output_type": "stream",
     "text": [
      "[[1 2 3]\n",
      " [4 5 6]\n",
      " [7 8 9]]\n",
      "45\n",
      "45\n",
      "[12 15 18]\n",
      "[12 15 18]\n",
      "[ 6 15 24]\n",
      "5.0\n",
      "[4. 5. 6.]\n"
     ]
    }
   ],
   "source": [
    "print(arr1)\n",
    "\n",
    "print(arr1.sum())\n",
    "print(np.sum(arr1))\n",
    "\n",
    "print(arr1.sum(axis=0)) #열의 합\n",
    "print(np.sum(arr1, axis=0))\n",
    "print(np.sum(arr1, axis=1)) #행의 합\n",
    "\n",
    "print(arr1.mean()) #평균\n",
    "print(arr1.mean(axis=0)) #열의 평균"
   ]
  },
  {
   "cell_type": "code",
   "execution_count": 68,
   "metadata": {},
   "outputs": [
    {
     "data": {
      "text/plain": [
       "array([[5, 3, 2],\n",
       "       [4, 1, 7],\n",
       "       [6, 9, 8]])"
      ]
     },
     "execution_count": 68,
     "metadata": {},
     "output_type": "execute_result"
    }
   ],
   "source": [
    "a=[5,3,2,4,1,7,6,9,8]\n",
    "arr=np.array(a).reshape(3,3)\n",
    "arr"
   ]
  },
  {
   "cell_type": "code",
   "execution_count": 72,
   "metadata": {},
   "outputs": [
    {
     "name": "stdout",
     "output_type": "stream",
     "text": [
      "[[2 3 5]\n",
      " [1 4 7]\n",
      " [6 8 9]]\n",
      "[[4 1 2]\n",
      " [5 3 7]\n",
      " [6 9 8]]\n",
      "[[2 3 5]\n",
      " [1 4 7]\n",
      " [6 8 9]]\n",
      "[[6 9 8]\n",
      " [5 3 7]\n",
      " [4 1 2]]\n",
      "[[2 1 4]\n",
      " [7 3 5]\n",
      " [8 9 6]]\n"
     ]
    }
   ],
   "source": [
    "print(np.sort(arr)) #그냥 이렇게 하면 각 행을 오름차순으로 정렬\n",
    "\n",
    "print(np.sort(arr, axis=0)) #열 기준\n",
    "\n",
    "print(np.sort(arr, axis=1)) #행 기준 (맨위와 같음)\n",
    "\n",
    "print(np.sort(arr, axis=0)[::-1, ::]) #열기준으로 정렬하고, 그 다음 행 순서를 역순으로\n",
    "print(np.sort(arr, axis=0)[::, ::-1]) #열기준으로 정렬하고, 그 다음 열 순서를 역순으로"
   ]
  },
  {
   "cell_type": "code",
   "execution_count": 73,
   "metadata": {},
   "outputs": [
    {
     "name": "stdout",
     "output_type": "stream",
     "text": [
      "[[5 3 2]\n",
      " [4 1 7]\n",
      " [6 9 8]]\n",
      "[[5 4 6]\n",
      " [3 1 9]\n",
      " [2 7 8]]\n"
     ]
    }
   ],
   "source": [
    "print(arr)\n",
    "print(arr.transpose()) #좌측위->우측하단 으로 뻗는 대각선을 기준으로 역순 =전치행렬"
   ]
  },
  {
   "cell_type": "code",
   "execution_count": 76,
   "metadata": {},
   "outputs": [
    {
     "name": "stdout",
     "output_type": "stream",
     "text": [
      "[[ True False False]\n",
      " [False False  True]\n",
      " [ True  True  True]]\n",
      "False\n",
      "True\n"
     ]
    }
   ],
   "source": [
    "print(arr>=5)\n",
    "print(np.all(arr>3)) #데이터 모두가 3보다 큰가?\n",
    "print(np.any(arr>3)) #3보다 큰 데이터가 하나는 있는가?"
   ]
  },
  {
   "cell_type": "code",
   "execution_count": 81,
   "metadata": {},
   "outputs": [
    {
     "name": "stdout",
     "output_type": "stream",
     "text": [
      "[0. 0. 0. 0. 0. 0. 0. 0. 0. 0.]\n",
      "[1. 1. 1. 1. 1. 1. 1. 1. 1. 1.]\n",
      "[[0. 0. 0.]\n",
      " [0. 0. 0.]\n",
      " [0. 0. 0.]]\n",
      "[[1. 1. 1. 1. 1.]\n",
      " [1. 1. 1. 1. 1.]\n",
      " [1. 1. 1. 1. 1.]\n",
      " [1. 1. 1. 1. 1.]]\n"
     ]
    }
   ],
   "source": [
    "a1=np.zeros(10) #0으로 10개 채워짐\n",
    "print(a1)\n",
    "\n",
    "b1=np.ones(10) #1로 10개 채워짐\n",
    "print(b1)\n",
    "\n",
    "a1=np.zeros([3,3]) \n",
    "print(a1)\n",
    "\n",
    "b1=np.ones([4,5]) \n",
    "print(b1)\n"
   ]
  },
  {
   "cell_type": "code",
   "execution_count": 84,
   "metadata": {},
   "outputs": [
    {
     "name": "stdout",
     "output_type": "stream",
     "text": [
      "(3, 3)\n",
      "[[1 1 1]\n",
      " [1 1 1]\n",
      " [1 1 1]]\n",
      "[[0 0 0]\n",
      " [0 0 0]\n",
      " [0 0 0]]\n"
     ]
    }
   ],
   "source": [
    "print(arr.shape)\n",
    "\n",
    "b1=np.ones_like(arr)\n",
    "print(b1)\n",
    "\n",
    "b2=np.zeros_like(arr)\n",
    "print(b2)\n"
   ]
  },
  {
   "cell_type": "code",
   "execution_count": null,
   "metadata": {},
   "outputs": [],
   "source": []
  },
  {
   "cell_type": "code",
   "execution_count": null,
   "metadata": {},
   "outputs": [],
   "source": []
  }
 ],
 "metadata": {
  "kernelspec": {
   "display_name": "Python 3",
   "language": "python",
   "name": "python3"
  },
  "language_info": {
   "codemirror_mode": {
    "name": "ipython",
    "version": 3
   },
   "file_extension": ".py",
   "mimetype": "text/x-python",
   "name": "python",
   "nbconvert_exporter": "python",
   "pygments_lexer": "ipython3",
   "version": "3.11.4"
  },
  "orig_nbformat": 4
 },
 "nbformat": 4,
 "nbformat_minor": 2
}
